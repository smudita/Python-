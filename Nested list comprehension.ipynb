{
 "cells": [
  {
   "cell_type": "code",
   "execution_count": 1,
   "id": "366662a0",
   "metadata": {},
   "outputs": [],
   "source": [
    "# How to get elemnets in a nested list\n",
    "\n",
    "scores=[['ris', 20],['dis',90],['yuoko',90]]\n",
    "\n"
   ]
  },
  {
   "cell_type": "code",
   "execution_count": 2,
   "id": "c114d8da",
   "metadata": {},
   "outputs": [],
   "source": [
    "lst= [x[0] for x in scores] # get 1st element of the nested list"
   ]
  },
  {
   "cell_type": "code",
   "execution_count": 3,
   "id": "eb4be519",
   "metadata": {},
   "outputs": [
    {
     "name": "stdout",
     "output_type": "stream",
     "text": [
      "['ris', 'dis', 'yuoko']\n"
     ]
    }
   ],
   "source": [
    "print(lst)"
   ]
  },
  {
   "cell_type": "code",
   "execution_count": null,
   "id": "ee1ace7a",
   "metadata": {},
   "outputs": [],
   "source": []
  }
 ],
 "metadata": {
  "kernelspec": {
   "display_name": "Python 3 (ipykernel)",
   "language": "python",
   "name": "python3"
  },
  "language_info": {
   "codemirror_mode": {
    "name": "ipython",
    "version": 3
   },
   "file_extension": ".py",
   "mimetype": "text/x-python",
   "name": "python",
   "nbconvert_exporter": "python",
   "pygments_lexer": "ipython3",
   "version": "3.9.12"
  }
 },
 "nbformat": 4,
 "nbformat_minor": 5
}
