{
 "cells": [
  {
   "cell_type": "code",
   "execution_count": null,
   "id": "e5469c56",
   "metadata": {},
   "outputs": [],
   "source": [
    "def minion_game(string):\n",
    "    vowels =['a','e','i','o','u','A','E','I','O','U']\n",
    "    score_V =0\n",
    "    score_C =0\n",
    "    lst_V = []\n",
    "    lst_C = []\n",
    "    lst_OV = []\n",
    "    lst_OC =[]\n",
    "    for ch in string:\n",
    "        if (ch in vowels):\n",
    "            lst_V.append(ch)\n",
    "            score_V=score_V+1\n",
    "            if(ch not in lst_OV):\n",
    "                lst_OV.append(ch)\n",
    "        else:\n",
    "            lst_C.append(ch)\n",
    "            score_C=score_C+1\n",
    "            if(ch not in lst_OC):\n",
    "                lst_OC.append(ch)\n",
    "                \n",
    "\n",
    "                \n",
    "    for i in range(0,len(string)):\n",
    "        if(string[i] in lst_OV and i<len(string) ):\n",
    "            st1 = string[i]\n",
    "            # print(string[i+1])\n",
    "            # print(st1)\n",
    "            for j in range(i+1,len(string)):\n",
    "                st1 = st1+string[j]\n",
    "                score_V = score_V+1\n",
    "                lst_V.append(st1)\n",
    "        elif(string[i] in lst_OC and i<len(string) ):\n",
    "            st2 = string[i]\n",
    "            for j in range(i+1,len(string)):\n",
    "                st2 = st2+string[j]\n",
    "                score_C = score_C+1\n",
    "                lst_C.append(st2)\n",
    "    \n",
    "    if(score_C>score_V):\n",
    "        print(\"Stuart\",score_C)\n",
    "    elif(score_C==score_V):\n",
    "        print(\"Draw\")\n",
    "    else:\n",
    "        print(\"Kevin\",score_V)\n",
    "                \n",
    "\n",
    "if __name__ == '__main__':\n",
    "    s = input()\n",
    "    minion_game(s)"
   ]
  }
 ],
 "metadata": {
  "kernelspec": {
   "display_name": "Python 3 (ipykernel)",
   "language": "python",
   "name": "python3"
  },
  "language_info": {
   "codemirror_mode": {
    "name": "ipython",
    "version": 3
   },
   "file_extension": ".py",
   "mimetype": "text/x-python",
   "name": "python",
   "nbconvert_exporter": "python",
   "pygments_lexer": "ipython3",
   "version": "3.9.12"
  }
 },
 "nbformat": 4,
 "nbformat_minor": 5
}
