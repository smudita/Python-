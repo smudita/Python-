{
 "cells": [
  {
   "cell_type": "code",
   "execution_count": 4,
   "id": "a804c286",
   "metadata": {},
   "outputs": [
    {
     "name": "stdout",
     "output_type": "stream",
     "text": [
      "2\n",
      "wendy\n",
      "22\n",
      "fety\n",
      "21\n",
      "wendy\n"
     ]
    }
   ],
   "source": [
    "if __name__ == '__main__':\n",
    "    records = list()\n",
    "    for _ in range(int(input())):\n",
    "        name = input()\n",
    "        score = float(input())\n",
    "        lst1=[name,score]\n",
    "        records.append(lst1)\n",
    "    grades = []\n",
    "    for i in records:\n",
    "        grades.append(i[1])\n",
    "        \n",
    "    grades.sort() # sorting grade list\n",
    "    \n",
    "    # print(grades)\n",
    "    for i in range(1,len(grades)):\n",
    "        if(grades[i]>grades[i-1]):\n",
    "            lowest = grades[i]\n",
    "            break\n",
    "        \n",
    "    grades.sort() # sorting grade list\n",
    "    \n",
    "    \n",
    "    \n",
    "    # lowest = grades[1] # finding second lowest in grade list\n",
    "    \n",
    "    names = [] # names list\n",
    "    \n",
    "    for i in records: # get names in list\n",
    "        if(lowest in i):\n",
    "            names.append(i[0])\n",
    "            \n",
    "    names.sort()#sort alphabetically\n",
    "    \n",
    "    for a in names: # get names in list\n",
    "            print(a)\n",
    "    \n"
   ]
  },
  {
   "cell_type": "code",
   "execution_count": null,
   "id": "3ea8c63b",
   "metadata": {},
   "outputs": [],
   "source": []
  },
  {
   "cell_type": "code",
   "execution_count": null,
   "id": "3d1d482a",
   "metadata": {},
   "outputs": [],
   "source": []
  },
  {
   "cell_type": "code",
   "execution_count": null,
   "id": "16ec44f4",
   "metadata": {},
   "outputs": [],
   "source": []
  }
 ],
 "metadata": {
  "kernelspec": {
   "display_name": "Python 3 (ipykernel)",
   "language": "python",
   "name": "python3"
  },
  "language_info": {
   "codemirror_mode": {
    "name": "ipython",
    "version": 3
   },
   "file_extension": ".py",
   "mimetype": "text/x-python",
   "name": "python",
   "nbconvert_exporter": "python",
   "pygments_lexer": "ipython3",
   "version": "3.9.12"
  }
 },
 "nbformat": 4,
 "nbformat_minor": 5
}
