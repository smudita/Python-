{
 "cells": [
  {
   "cell_type": "code",
   "execution_count": 1,
   "metadata": {},
   "outputs": [
    {
     "name": "stdout",
     "output_type": "stream",
     "text": [
      "String with the use of Single Quotes: \n",
      "Welcome to the World\n"
     ]
    }
   ],
   "source": [
    "String1 = 'Welcome to the World'\n",
    "print(\"String with the use of Single Quotes: \")\n",
    "print(String1)"
   ]
  },
  {
   "cell_type": "code",
   "execution_count": 2,
   "metadata": {},
   "outputs": [
    {
     "name": "stdout",
     "output_type": "stream",
     "text": [
      "hello,hi\n"
     ]
    }
   ],
   "source": [
    "print(\"hello\",end=',')\n",
    "print(\"hi\")"
   ]
  },
  {
   "cell_type": "code",
   "execution_count": 4,
   "metadata": {},
   "outputs": [
    {
     "data": {
      "text/plain": [
       "'Helloworld'"
      ]
     },
     "execution_count": 4,
     "metadata": {},
     "output_type": "execute_result"
    }
   ],
   "source": [
    "'Hello'+'world'"
   ]
  },
  {
   "cell_type": "code",
   "execution_count": 5,
   "metadata": {},
   "outputs": [
    {
     "data": {
      "text/plain": [
       "'Helloworld'"
      ]
     },
     "execution_count": 5,
     "metadata": {},
     "output_type": "execute_result"
    }
   ],
   "source": [
    "\"Hello\"+\"world\""
   ]
  },
  {
   "cell_type": "code",
   "execution_count": 7,
   "metadata": {},
   "outputs": [
    {
     "name": "stdout",
     "output_type": "stream",
     "text": [
      "Helloworld\n"
     ]
    }
   ],
   "source": [
    "string2= 'Hello'+'world'\n",
    "print(string2)"
   ]
  },
  {
   "cell_type": "code",
   "execution_count": 9,
   "metadata": {},
   "outputs": [
    {
     "name": "stdout",
     "output_type": "stream",
     "text": [
      "HelloworldHelloworldHelloworld\n"
     ]
    }
   ],
   "source": [
    "print(string2*3)"
   ]
  },
  {
   "cell_type": "markdown",
   "metadata": {},
   "source": [
    "# Accessing Characters"
   ]
  },
  {
   "cell_type": "code",
   "execution_count": 13,
   "metadata": {},
   "outputs": [
    {
     "name": "stdout",
     "output_type": "stream",
     "text": [
      "Initial String : Welcome to the World\n",
      "W\n"
     ]
    }
   ],
   "source": [
    "print(\"Initial String : %s\"%String1)\n",
    "print(String1[0])"
   ]
  },
  {
   "cell_type": "markdown",
   "metadata": {},
   "source": [
    "From the back"
   ]
  },
  {
   "cell_type": "code",
   "execution_count": 12,
   "metadata": {},
   "outputs": [
    {
     "name": "stdout",
     "output_type": "stream",
     "text": [
      "d\n"
     ]
    }
   ],
   "source": [
    "print(String1[-1])"
   ]
  },
  {
   "cell_type": "markdown",
   "metadata": {},
   "source": [
    "# Slicing"
   ]
  },
  {
   "cell_type": "code",
   "execution_count": 14,
   "metadata": {},
   "outputs": [
    {
     "data": {
      "text/plain": [
       "'el'"
      ]
     },
     "execution_count": 14,
     "metadata": {},
     "output_type": "execute_result"
    }
   ],
   "source": [
    "String1[1:3]  #first included last not included"
   ]
  },
  {
   "cell_type": "code",
   "execution_count": 18,
   "metadata": {},
   "outputs": [
    {
     "data": {
      "text/plain": [
       "'elcome to the Worl'"
      ]
     },
     "execution_count": 18,
     "metadata": {},
     "output_type": "execute_result"
    }
   ],
   "source": [
    "String1[1:-1] #slicing between 1st and last character"
   ]
  },
  {
   "cell_type": "code",
   "execution_count": 19,
   "metadata": {},
   "outputs": [
    {
     "data": {
      "text/plain": [
       "'We'"
      ]
     },
     "execution_count": 19,
     "metadata": {},
     "output_type": "execute_result"
    }
   ],
   "source": [
    "String1[:2] #till 1st"
   ]
  },
  {
   "cell_type": "code",
   "execution_count": 20,
   "metadata": {},
   "outputs": [
    {
     "data": {
      "text/plain": [
       "'Welcome to the World'"
      ]
     },
     "execution_count": 20,
     "metadata": {},
     "output_type": "execute_result"
    }
   ],
   "source": [
    "String1[::] #beginning to end"
   ]
  },
  {
   "cell_type": "code",
   "execution_count": 21,
   "metadata": {},
   "outputs": [
    {
     "data": {
      "text/plain": [
       "'dlroW eht ot emocleW'"
      ]
     },
     "execution_count": 21,
     "metadata": {},
     "output_type": "execute_result"
    }
   ],
   "source": [
    "String1[::-1]  #reverse string"
   ]
  },
  {
   "cell_type": "code",
   "execution_count": 23,
   "metadata": {},
   "outputs": [
    {
     "data": {
      "text/plain": [
       "'Wloet h ol'"
      ]
     },
     "execution_count": 23,
     "metadata": {},
     "output_type": "execute_result"
    }
   ],
   "source": [
    "String1[::2] #skip 2 from beginning"
   ]
  },
  {
   "cell_type": "markdown",
   "metadata": {},
   "source": [
    "# Escaping Quotes"
   ]
  },
  {
   "cell_type": "code",
   "execution_count": 24,
   "metadata": {},
   "outputs": [
    {
     "name": "stdout",
     "output_type": "stream",
     "text": [
      "\n",
      "Escaping Single Quote: \n",
      "I'm a \"Geek\"\n",
      "\n",
      "Escaping Double Quotes: \n",
      "I'm a \"Geek\"\n",
      "\n",
      "Escaping Backslashes: \n",
      "C:\\Python\\Geeks\\\n"
     ]
    }
   ],
   "source": [
    "# Escaping Single Quote\n",
    "String1 = 'I\\'m a \"Geek\"'\n",
    "print(\"\\nEscaping Single Quote: \")\n",
    "print(String1)\n",
    " \n",
    "# Escaping Double Quotes\n",
    "String1 = \"I'm a \\\"Geek\\\"\"\n",
    "print(\"\\nEscaping Double Quotes: \")\n",
    "print(String1)\n",
    " \n",
    "# Printing Paths with the\n",
    "# use of Escape Sequences\n",
    "String1 = \"C:\\\\Python\\\\Geeks\\\\\"\n",
    "print(\"\\nEscaping Backslashes: \")\n",
    "print(String1)"
   ]
  },
  {
   "cell_type": "markdown",
   "metadata": {},
   "source": [
    "# Formatting of String"
   ]
  },
  {
   "cell_type": "code",
   "execution_count": 25,
   "metadata": {},
   "outputs": [
    {
     "name": "stdout",
     "output_type": "stream",
     "text": [
      "Print String in default order: \n",
      "Geeks For Life\n",
      "\n",
      "Print String in Positional order: \n",
      "For Geeks Life\n",
      "\n",
      "Print String in order of Keywords: \n",
      "Life For Geeks\n"
     ]
    }
   ],
   "source": [
    "\n",
    "# Default order\n",
    "String1 = \"{} {} {}\".format('Geeks', 'For', 'Life')\n",
    "print(\"Print String in default order: \")\n",
    "print(String1)\n",
    " \n",
    "# Positional Formatting\n",
    "String1 = \"{1} {0} {2}\".format('Geeks', 'For', 'Life')\n",
    "print(\"\\nPrint String in Positional order: \")\n",
    "print(String1)\n",
    " \n",
    "# Keyword Formatting\n",
    "String1 = \"{l} {f} {g}\".format(g = 'Geeks', f = 'For', l = 'Life')\n",
    "print(\"\\nPrint String in order of Keywords: \")\n",
    "print(String1)"
   ]
  },
  {
   "cell_type": "code",
   "execution_count": null,
   "metadata": {},
   "outputs": [],
   "source": []
  }
 ],
 "metadata": {
  "kernelspec": {
   "display_name": "Python 3",
   "language": "python",
   "name": "python3"
  },
  "language_info": {
   "codemirror_mode": {
    "name": "ipython",
    "version": 3
   },
   "file_extension": ".py",
   "mimetype": "text/x-python",
   "name": "python",
   "nbconvert_exporter": "python",
   "pygments_lexer": "ipython3",
   "version": "3.6.9"
  }
 },
 "nbformat": 4,
 "nbformat_minor": 2
}
