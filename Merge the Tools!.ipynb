{
 "cells": [
  {
   "cell_type": "code",
   "execution_count": 3,
   "id": "4ceb8b6c",
   "metadata": {},
   "outputs": [
    {
     "name": "stdout",
     "output_type": "stream",
     "text": [
      "False\n",
      "True\n",
      "True\n"
     ]
    }
   ],
   "source": [
    "#not in operator working\n",
    " \n",
    "list1= [1,2,3,4,5]\n",
    "string1= \"Myname\"\n",
    "tuple1=(11,22,33,44)\n",
    " \n",
    "print(5 not in list1) #False\n",
    "print(\"n\" in string1) #False\n",
    "print(88 not in tuple1) #True"
   ]
  },
  {
   "cell_type": "code",
   "execution_count": null,
   "id": "33910163",
   "metadata": {},
   "outputs": [],
   "source": [
    "def merge_the_tools(string, k):\n",
    "    # your code goes here\n",
    "    n = len(string)\n",
    "    size = int(len(string/k)\n",
    "    for i in range(0,n,size):\n",
    "        s = string[i]\n",
    "        for j in range(i+1,i+size):\n",
    "            if(string[j].upper() not in s and string[j].lower() not in s ):\n",
    "                s = s+string[j]\n",
    "        print(s)\n",
    "      "
   ]
  }
 ],
 "metadata": {
  "kernelspec": {
   "display_name": "Python 3 (ipykernel)",
   "language": "python",
   "name": "python3"
  },
  "language_info": {
   "codemirror_mode": {
    "name": "ipython",
    "version": 3
   },
   "file_extension": ".py",
   "mimetype": "text/x-python",
   "name": "python",
   "nbconvert_exporter": "python",
   "pygments_lexer": "ipython3",
   "version": "3.9.12"
  }
 },
 "nbformat": 4,
 "nbformat_minor": 5
}
