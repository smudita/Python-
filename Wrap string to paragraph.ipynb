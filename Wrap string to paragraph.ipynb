{
 "cells": [
  {
   "cell_type": "code",
   "execution_count": 3,
   "id": "ed419dc2",
   "metadata": {},
   "outputs": [],
   "source": [
    "def wrap(string, max_width):\n",
    "    i=0\n",
    "    para_string = \"\"\n",
    "    for i in range(0,len(string),max_width):\n",
    "        p = string[i:i+max_width]\n",
    "        para_string+= p+'\\n'\n",
    "       \n",
    "    return para_string\n",
    "\n"
   ]
  },
  {
   "cell_type": "code",
   "execution_count": 4,
   "id": "de5f2ae4",
   "metadata": {},
   "outputs": [
    {
     "name": "stdout",
     "output_type": "stream",
     "text": [
      "abcdefghi\n",
      "4\n"
     ]
    }
   ],
   "source": [
    "string, max_width = input(), int(input())\n",
    "    "
   ]
  },
  {
   "cell_type": "code",
   "execution_count": 5,
   "id": "5359f59b",
   "metadata": {},
   "outputs": [
    {
     "name": "stdout",
     "output_type": "stream",
     "text": [
      "abcd\n",
      "efgh\n",
      "i\n",
      "\n"
     ]
    }
   ],
   "source": [
    "result = wrap(string, max_width)\n",
    "print(result)"
   ]
  },
  {
   "cell_type": "code",
   "execution_count": null,
   "id": "436b679b",
   "metadata": {},
   "outputs": [],
   "source": []
  }
 ],
 "metadata": {
  "kernelspec": {
   "display_name": "Python 3 (ipykernel)",
   "language": "python",
   "name": "python3"
  },
  "language_info": {
   "codemirror_mode": {
    "name": "ipython",
    "version": 3
   },
   "file_extension": ".py",
   "mimetype": "text/x-python",
   "name": "python",
   "nbconvert_exporter": "python",
   "pygments_lexer": "ipython3",
   "version": "3.9.12"
  }
 },
 "nbformat": 4,
 "nbformat_minor": 5
}
