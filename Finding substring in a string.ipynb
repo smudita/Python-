{
 "cells": [
  {
   "cell_type": "code",
   "execution_count": 2,
   "id": "4de8d6ae",
   "metadata": {},
   "outputs": [],
   "source": []
  },
  {
   "cell_type": "code",
   "execution_count": 5,
   "id": "c2b7048d",
   "metadata": {},
   "outputs": [
    {
     "name": "stdout",
     "output_type": "stream",
     "text": [
      "H\n",
      "e\n",
      "l\n",
      "l\n",
      "o\n"
     ]
    }
   ],
   "source": [
    "for i in range(0, len(str)):\n",
    "    print (str[i])"
   ]
  },
  {
   "cell_type": "code",
   "execution_count": null,
   "id": "9f63a5d0",
   "metadata": {},
   "outputs": [],
   "source": [
    "def count_substring(string, sub_string):\n",
    "    count = 0\n",
    "    for x in range(0,len(string)):\n",
    "        str2 = string[x]\n",
    "        for y in range(1,len(sub_string)):\n",
    "            #print(\"y\",y)\n",
    "            index = x+y\n",
    "            if(index<len(string)):\n",
    "                str2 += string[x+y]\n",
    "        # print(str2)\n",
    "        # print(len(sub_string))\n",
    "        if(str2==sub_string):\n",
    "            count= count +1   \n",
    "        # print(\"out\")\n",
    "    return count\n",
    "\n",
    "if __name__ == '__main__':\n",
    "    string = input().strip()\n",
    "    sub_string = input().strip()\n",
    "    \n",
    "    count = count_substring(string, sub_string)\n",
    "    print(count)"
   ]
  }
 ],
 "metadata": {
  "kernelspec": {
   "display_name": "Python 3 (ipykernel)",
   "language": "python",
   "name": "python3"
  },
  "language_info": {
   "codemirror_mode": {
    "name": "ipython",
    "version": 3
   },
   "file_extension": ".py",
   "mimetype": "text/x-python",
   "name": "python",
   "nbconvert_exporter": "python",
   "pygments_lexer": "ipython3",
   "version": "3.9.12"
  }
 },
 "nbformat": 4,
 "nbformat_minor": 5
}
